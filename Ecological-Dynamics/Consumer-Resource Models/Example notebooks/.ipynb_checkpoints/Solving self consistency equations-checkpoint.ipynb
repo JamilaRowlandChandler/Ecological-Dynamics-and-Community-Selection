{
 "cells": [
  {
   "cell_type": "markdown",
   "id": "43b4b319-040d-47ed-8ee5-f4ba773ffa5a",
   "metadata": {},
   "source": [
    "# Solving the self-consistency equations"
   ]
  },
  {
   "cell_type": "markdown",
   "id": "473bff0d-a298-4657-9c62-444ec137f696",
   "metadata": {},
   "source": [
    "This notebook describes how the analaytical expressions for the self-consistency equations and stability condition are numerically solved."
   ]
  },
  {
   "cell_type": "code",
   "execution_count": 37,
   "id": "98640b03-66c0-49af-abce-8f610ea29691",
   "metadata": {},
   "outputs": [],
   "source": [
    "import numpy as np\n",
    "import pandas as pd\n",
    "import os\n",
    "import sys\n",
    "from copy import deepcopy\n",
    "\n",
    "os.chdir('C:/Users/jamil/Documents/PhD/GitHub projects/Ecological-Dynamics-and-Community-Selection/Ecological-Dynamics/Consumer-Resource Models/alternative_growth_consumption_coupling/cavity_solutions_vs_simulations')\n",
    "\n",
    "sys.path.insert(0, 'C:/Users/jamil/Documents/PhD/Github Projects/Ecological-Dynamics-and-Community-Selection/Ecological-Dynamics/Consumer-Resource Models/cavity_method_functions')\n",
    "import self_consistency_equation_functions as sce\n",
    "\n",
    "sys.path.insert(0, \"C:/Users/jamil/Documents/PhD/GitHub projects/Ecological-Dynamics-and-Community-Selection/\" + \\\n",
    "                    \"Ecological-Dynamics/Consumer-Resource Models/alternative_growth_consumption_coupling\")\n",
    "from simulation_functions import generate_simulation_df, le_pivot_r, pickle_dump"
   ]
  },
  {
   "cell_type": "code",
   "execution_count": 38,
   "id": "a7c692a9-c5b3-4964-af46-875fa5ef60cb",
   "metadata": {},
   "outputs": [
    {
     "name": "stdout",
     "output_type": "stream",
     "text": [
      "The autoreload extension is already loaded. To reload it, use:\n",
      "  %reload_ext autoreload\n"
     ]
    }
   ],
   "source": [
    "%load_ext autoreload\n",
    "%autoreload 2"
   ]
  },
  {
   "cell_type": "markdown",
   "id": "199d8e94-5f0b-45b8-b1fc-ebe6e0080e70",
   "metadata": {},
   "source": [
    "All solvers and self-consistency equations are included in the *self_consistency_equation_functions* module."
   ]
  },
  {
   "cell_type": "markdown",
   "id": "664ea7f9-5bd3-4ea4-90a7-2b20ff51d072",
   "metadata": {},
   "source": [
    "## Solving the self-consistency equations for a set of model parameters"
   ]
  },
  {
   "cell_type": "markdown",
   "id": "5927369b-3e4e-4c89-84fc-ed7ffa2ee2a3",
   "metadata": {},
   "source": [
    "To solve the self-consistency equations, we use a global solver that is not sensitive to initial conditions.\n",
    "We supply the statistical properties of model parameters as fixed values, and ask the solver to solve for the self-consistency equations."
   ]
  },
  {
   "cell_type": "code",
   "execution_count": 40,
   "id": "4e436f43-7c93-410c-a46f-7f4f3db2e2f6",
   "metadata": {},
   "outputs": [
    {
     "name": "stderr",
     "output_type": "stream",
     "text": [
      "  0%|          | 0/1 [00:00<?, ?it/s]\n"
     ]
    },
    {
     "ename": "UFuncTypeError",
     "evalue": "ufunc 'subtract' did not contain a loop with signature matching types (dtype('<U32'), dtype('float64')) -> None",
     "output_type": "error",
     "traceback": [
      "\u001b[1;31m---------------------------------------------------------------------------\u001b[0m",
      "\u001b[1;31mUFuncTypeError\u001b[0m                            Traceback (most recent call last)",
      "Cell \u001b[1;32mIn[40], line 21\u001b[0m\n\u001b[0;32m     17\u001b[0m initial_values \u001b[38;5;241m=\u001b[39m np\u001b[38;5;241m.\u001b[39marray([\u001b[38;5;241m0.5\u001b[39m, \u001b[38;5;241m0.01\u001b[39m, \u001b[38;5;241m0.01\u001b[39m, \u001b[38;5;241m-\u001b[39m\u001b[38;5;241m0.1\u001b[39m, \u001b[38;5;241m0.7\u001b[39m, \u001b[38;5;241m0.001\u001b[39m, \u001b[38;5;241m0.01\u001b[39m, \u001b[38;5;241m0.05\u001b[39m])\n\u001b[0;32m     19\u001b[0m \u001b[38;5;66;03m# Solve the self consistency equations\u001b[39;00m\n\u001b[0;32m     20\u001b[0m \u001b[38;5;66;03m# unfortunately, the solver takes a very long time in jupyter notebook \u001b[39;00m\n\u001b[1;32m---> 21\u001b[0m sol \u001b[38;5;241m=\u001b[39m sce\u001b[38;5;241m.\u001b[39msolve_self_consistency_equations(model \u001b[38;5;241m=\u001b[39m \u001b[38;5;124m'\u001b[39m\u001b[38;5;124mself-limiting, yc c\u001b[39m\u001b[38;5;124m'\u001b[39m, \u001b[38;5;66;03m# determines what analytically-dervied self consistency equations should be used\u001b[39;00m\n\u001b[0;32m     22\u001b[0m                                            parameters \u001b[38;5;241m=\u001b[39m parameters,\n\u001b[0;32m     23\u001b[0m                                            solved_quantities \u001b[38;5;241m=\u001b[39m solved_quantities,\n\u001b[0;32m     24\u001b[0m                                            bounds \u001b[38;5;241m=\u001b[39m bounds,\n\u001b[0;32m     25\u001b[0m                                            x_init \u001b[38;5;241m=\u001b[39m initial_values,\n\u001b[0;32m     26\u001b[0m                                            solver_name \u001b[38;5;241m=\u001b[39m \u001b[38;5;124m'\u001b[39m\u001b[38;5;124mbasin-hopping\u001b[39m\u001b[38;5;124m'\u001b[39m, \u001b[38;5;66;03m# global solving routine\u001b[39;00m\n\u001b[0;32m     27\u001b[0m                                            solver_kwargs \u001b[38;5;241m=\u001b[39m {\u001b[38;5;124m'\u001b[39m\u001b[38;5;124mxtol\u001b[39m\u001b[38;5;124m'\u001b[39m : \u001b[38;5;241m1e-13\u001b[39m, \u001b[38;5;124m'\u001b[39m\u001b[38;5;124mftol\u001b[39m\u001b[38;5;124m'\u001b[39m : \u001b[38;5;241m1e-13\u001b[39m}, \u001b[38;5;66;03m# arguments for the local solver (non-linear least squares)\u001b[39;00m\n\u001b[0;32m     28\u001b[0m                                            other_kwargs \u001b[38;5;241m=\u001b[39m {\u001b[38;5;124m'\u001b[39m\u001b[38;5;124mniter\u001b[39m\u001b[38;5;124m'\u001b[39m : \u001b[38;5;241m300\u001b[39m})\n",
      "File \u001b[1;32mC:\\Users/jamil/Documents/PhD/Github Projects/Ecological-Dynamics-and-Community-Selection/Ecological-Dynamics/Consumer-Resource Models/cavity_method_functions\\self_consistency_equation_functions.py:191\u001b[0m, in \u001b[0;36msolve_self_consistency_equations\u001b[1;34m(model, parameters, solved_quantities, bounds, x_init, solver_name, solver_kwargs, other_kwargs, include_multistability)\u001b[0m\n\u001b[0;32m    180\u001b[0m \u001b[38;5;28;01mmatch\u001b[39;00m solver_name:\n\u001b[0;32m    181\u001b[0m     \n\u001b[0;32m    182\u001b[0m     \u001b[38;5;28;01mcase\u001b[39;00m \u001b[38;5;124m'\u001b[39m\u001b[38;5;124mbasin-hopping\u001b[39m\u001b[38;5;124m'\u001b[39m:\n\u001b[1;32m   (...)\u001b[0m\n\u001b[0;32m    187\u001b[0m         \n\u001b[0;32m    188\u001b[0m         solver \u001b[38;5;241m=\u001b[39m solve_equations_least_squares\n\u001b[0;32m    190\u001b[0m \u001b[38;5;66;03m# This routine solves the self consistency equations\u001b[39;00m\n\u001b[1;32m--> 191\u001b[0m sol \u001b[38;5;241m=\u001b[39m solve_sces(parameters, model,\n\u001b[0;32m    192\u001b[0m                  solved_quantities \u001b[38;5;241m=\u001b[39m solved_quantities,\n\u001b[0;32m    193\u001b[0m                  bounds \u001b[38;5;241m=\u001b[39m bounds,\n\u001b[0;32m    194\u001b[0m                  x_init \u001b[38;5;241m=\u001b[39m x_init,\n\u001b[0;32m    195\u001b[0m                  solver \u001b[38;5;241m=\u001b[39m solver,\n\u001b[0;32m    196\u001b[0m                  solver_kwargs \u001b[38;5;241m=\u001b[39m solver_kwargs,\n\u001b[0;32m    197\u001b[0m                  other_kwargs \u001b[38;5;241m=\u001b[39m other_kwargs,\n\u001b[0;32m    198\u001b[0m                  include_multistability \u001b[38;5;241m=\u001b[39m include_multistability)\n\u001b[0;32m    200\u001b[0m \u001b[38;5;66;03m# This routine solves the multistability equations for each row of the df\u001b[39;00m\n\u001b[0;32m    201\u001b[0m \u001b[38;5;66;03m#   (which contains each parameter set + solved self consistency equations)\u001b[39;00m\n\u001b[0;32m    202\u001b[0m sol[[\u001b[38;5;124m'\u001b[39m\u001b[38;5;124mdNde\u001b[39m\u001b[38;5;124m'\u001b[39m, \u001b[38;5;124m'\u001b[39m\u001b[38;5;124mdRde\u001b[39m\u001b[38;5;124m'\u001b[39m, \u001b[38;5;124m'\u001b[39m\u001b[38;5;124mms_loss\u001b[39m\u001b[38;5;124m'\u001b[39m]] \u001b[38;5;241m=\u001b[39m \\\n\u001b[0;32m    203\u001b[0m     pd\u001b[38;5;241m.\u001b[39mDataFrame(sol\u001b[38;5;241m.\u001b[39mapply(solve_for_multistability, axis \u001b[38;5;241m=\u001b[39m \u001b[38;5;241m1\u001b[39m,\n\u001b[0;32m    204\u001b[0m                            multistability_equation_func \u001b[38;5;241m=\u001b[39m model)\u001b[38;5;241m.\u001b[39mto_list())\n",
      "File \u001b[1;32mC:\\Users/jamil/Documents/PhD/Github Projects/Ecological-Dynamics-and-Community-Selection/Ecological-Dynamics/Consumer-Resource Models/cavity_method_functions\\self_consistency_equation_functions.py:350\u001b[0m, in \u001b[0;36msolve_sces\u001b[1;34m(parameters, model, solved_quantities, bounds, x_init, solver, solver_kwargs, other_kwargs, include_multistability)\u001b[0m\n\u001b[0;32m    346\u001b[0m iterable_kwargs \u001b[38;5;241m=\u001b[39m create_iterator([solved_quantities, bounds, x_init,\n\u001b[0;32m    347\u001b[0m                                    parameters, solver_kwargs, other_kwargs])\n\u001b[0;32m    349\u001b[0m \u001b[38;5;66;03m# Iterate through all parameter sets and solve the self-consistency equations\u001b[39;00m\n\u001b[1;32m--> 350\u001b[0m fitted_values_final_loss \u001b[38;5;241m=\u001b[39m np\u001b[38;5;241m.\u001b[39marray([solver(equation_func \u001b[38;5;241m=\u001b[39m function,\n\u001b[0;32m    351\u001b[0m                                             ms_function \u001b[38;5;241m=\u001b[39m ms_function,\n\u001b[0;32m    352\u001b[0m                                             \u001b[38;5;241m*\u001b[39m\u001b[38;5;241m*\u001b[39mi_kwargs)\n\u001b[0;32m    353\u001b[0m                                       \u001b[38;5;28;01mfor\u001b[39;00m i_kwargs \u001b[38;5;129;01min\u001b[39;00m tqdm(iterable_kwargs,\n\u001b[0;32m    354\u001b[0m                                                            position \u001b[38;5;241m=\u001b[39m \u001b[38;5;241m0\u001b[39m,\n\u001b[0;32m    355\u001b[0m                                                            leave \u001b[38;5;241m=\u001b[39m \u001b[38;5;28;01mTrue\u001b[39;00m)])\n\u001b[0;32m    357\u001b[0m \u001b[38;5;66;03m# Convert array to dataframe. Each column solved quantity, each row is the \u001b[39;00m\n\u001b[0;32m    358\u001b[0m \u001b[38;5;66;03m# solves sces for a given parameter set\u001b[39;00m\n\u001b[0;32m    359\u001b[0m fitted_values_df \u001b[38;5;241m=\u001b[39m pd\u001b[38;5;241m.\u001b[39mDataFrame(fitted_values_final_loss, columns \u001b[38;5;241m=\u001b[39m solved_quantities \u001b[38;5;241m+\u001b[39m [\u001b[38;5;124m'\u001b[39m\u001b[38;5;124mloss\u001b[39m\u001b[38;5;124m'\u001b[39m])\n",
      "File \u001b[1;32mC:\\Users/jamil/Documents/PhD/Github Projects/Ecological-Dynamics-and-Community-Selection/Ecological-Dynamics/Consumer-Resource Models/cavity_method_functions\\self_consistency_equation_functions.py:561\u001b[0m, in \u001b[0;36msolve_equations_basinhopping\u001b[1;34m(equation_func, solved_quantities, bounds, x_init, ls_kwargs, solver_kwargs, other_kwargs, ms_function, return_all)\u001b[0m\n\u001b[0;32m    558\u001b[0m accept_bounded_step \u001b[38;5;241m=\u001b[39m Accept_within_Bounds(bounds[\u001b[38;5;241m1\u001b[39m], bounds[\u001b[38;5;241m0\u001b[39m])\n\u001b[0;32m    560\u001b[0m \u001b[38;5;66;03m# Globally minimise the function\u001b[39;00m\n\u001b[1;32m--> 561\u001b[0m fitted_values \u001b[38;5;241m=\u001b[39m basinhopping(fun, x0 \u001b[38;5;241m=\u001b[39m x_init,\n\u001b[0;32m    562\u001b[0m                              minimizer_kwargs \u001b[38;5;241m=\u001b[39m {\u001b[38;5;124m\"\u001b[39m\u001b[38;5;124mmethod\u001b[39m\u001b[38;5;124m\"\u001b[39m : minimise_ls,\n\u001b[0;32m    563\u001b[0m                                                  \u001b[38;5;124m\"\u001b[39m\u001b[38;5;124mbounds\u001b[39m\u001b[38;5;124m\"\u001b[39m : bounds,\n\u001b[0;32m    564\u001b[0m                                                  \u001b[38;5;124m\"\u001b[39m\u001b[38;5;124moptions\u001b[39m\u001b[38;5;124m\"\u001b[39m : solver_kwargs},\n\u001b[0;32m    565\u001b[0m                              take_step \u001b[38;5;241m=\u001b[39m bounded_step,\n\u001b[0;32m    566\u001b[0m                              accept_test \u001b[38;5;241m=\u001b[39m accept_bounded_step,\n\u001b[0;32m    567\u001b[0m                              callback \u001b[38;5;241m=\u001b[39m decent_solve,\n\u001b[0;32m    568\u001b[0m                              \u001b[38;5;241m*\u001b[39m\u001b[38;5;241m*\u001b[39mother_kwargs)\n\u001b[0;32m    570\u001b[0m \u001b[38;5;28;01mif\u001b[39;00m return_all \u001b[38;5;129;01mis\u001b[39;00m \u001b[38;5;28;01mTrue\u001b[39;00m:\n\u001b[0;32m    571\u001b[0m     \n\u001b[0;32m    572\u001b[0m     \u001b[38;5;66;03m# return all attributes of the OptimizeResult object\u001b[39;00m\n\u001b[0;32m    573\u001b[0m     returned_values \u001b[38;5;241m=\u001b[39m fitted_values\n",
      "File \u001b[1;32m~\\anaconda3\\Lib\\site-packages\\scipy\\_lib\\_util.py:440\u001b[0m, in \u001b[0;36m_transition_to_rng.<locals>.decorator.<locals>.wrapper\u001b[1;34m(*args, **kwargs)\u001b[0m\n\u001b[0;32m    433\u001b[0m     message \u001b[38;5;241m=\u001b[39m (\n\u001b[0;32m    434\u001b[0m         \u001b[38;5;124m\"\u001b[39m\u001b[38;5;124mThe NumPy global RNG was seeded by calling \u001b[39m\u001b[38;5;124m\"\u001b[39m\n\u001b[0;32m    435\u001b[0m         \u001b[38;5;124mf\u001b[39m\u001b[38;5;124m\"\u001b[39m\u001b[38;5;124m`np.random.seed`. Beginning in \u001b[39m\u001b[38;5;132;01m{\u001b[39;00mend_version\u001b[38;5;132;01m}\u001b[39;00m\u001b[38;5;124m, this \u001b[39m\u001b[38;5;124m\"\u001b[39m\n\u001b[0;32m    436\u001b[0m         \u001b[38;5;124m\"\u001b[39m\u001b[38;5;124mfunction will no longer use the global RNG.\u001b[39m\u001b[38;5;124m\"\u001b[39m\n\u001b[0;32m    437\u001b[0m     ) \u001b[38;5;241m+\u001b[39m cmn_msg\n\u001b[0;32m    438\u001b[0m     warnings\u001b[38;5;241m.\u001b[39mwarn(message, \u001b[38;5;167;01mFutureWarning\u001b[39;00m, stacklevel\u001b[38;5;241m=\u001b[39m\u001b[38;5;241m2\u001b[39m)\n\u001b[1;32m--> 440\u001b[0m \u001b[38;5;28;01mreturn\u001b[39;00m fun(\u001b[38;5;241m*\u001b[39margs, \u001b[38;5;241m*\u001b[39m\u001b[38;5;241m*\u001b[39mkwargs)\n",
      "File \u001b[1;32m~\\anaconda3\\Lib\\site-packages\\scipy\\optimize\\_basinhopping.py:726\u001b[0m, in \u001b[0;36mbasinhopping\u001b[1;34m(func, x0, niter, T, stepsize, minimizer_kwargs, take_step, accept_test, callback, interval, disp, niter_success, rng, target_accept_rate, stepwise_factor)\u001b[0m\n\u001b[0;32m    723\u001b[0m message \u001b[38;5;241m=\u001b[39m [\u001b[38;5;124m\"\u001b[39m\u001b[38;5;124mrequested number of basinhopping iterations completed\u001b[39m\u001b[38;5;124m\"\u001b[39m\n\u001b[0;32m    724\u001b[0m            \u001b[38;5;124m\"\u001b[39m\u001b[38;5;124m successfully\u001b[39m\u001b[38;5;124m\"\u001b[39m]\n\u001b[0;32m    725\u001b[0m \u001b[38;5;28;01mfor\u001b[39;00m i \u001b[38;5;129;01min\u001b[39;00m \u001b[38;5;28mrange\u001b[39m(niter):\n\u001b[1;32m--> 726\u001b[0m     new_global_min \u001b[38;5;241m=\u001b[39m bh\u001b[38;5;241m.\u001b[39mone_cycle()\n\u001b[0;32m    728\u001b[0m     \u001b[38;5;28;01mif\u001b[39;00m \u001b[38;5;28mcallable\u001b[39m(callback):\n\u001b[0;32m    729\u001b[0m         \u001b[38;5;66;03m# should we pass a copy of x?\u001b[39;00m\n\u001b[0;32m    730\u001b[0m         val \u001b[38;5;241m=\u001b[39m callback(bh\u001b[38;5;241m.\u001b[39mxtrial, bh\u001b[38;5;241m.\u001b[39menergy_trial, bh\u001b[38;5;241m.\u001b[39maccept)\n",
      "File \u001b[1;32m~\\anaconda3\\Lib\\site-packages\\scipy\\optimize\\_basinhopping.py:167\u001b[0m, in \u001b[0;36mBasinHoppingRunner.one_cycle\u001b[1;34m(self)\u001b[0m\n\u001b[0;32m    164\u001b[0m \u001b[38;5;28mself\u001b[39m\u001b[38;5;241m.\u001b[39mnstep \u001b[38;5;241m+\u001b[39m\u001b[38;5;241m=\u001b[39m \u001b[38;5;241m1\u001b[39m\n\u001b[0;32m    165\u001b[0m new_global_min \u001b[38;5;241m=\u001b[39m \u001b[38;5;28;01mFalse\u001b[39;00m\n\u001b[1;32m--> 167\u001b[0m accept, minres \u001b[38;5;241m=\u001b[39m \u001b[38;5;28mself\u001b[39m\u001b[38;5;241m.\u001b[39m_monte_carlo_step()\n\u001b[0;32m    169\u001b[0m \u001b[38;5;28;01mif\u001b[39;00m accept:\n\u001b[0;32m    170\u001b[0m     \u001b[38;5;28mself\u001b[39m\u001b[38;5;241m.\u001b[39menergy \u001b[38;5;241m=\u001b[39m minres\u001b[38;5;241m.\u001b[39mfun\n",
      "File \u001b[1;32m~\\anaconda3\\Lib\\site-packages\\scipy\\optimize\\_basinhopping.py:111\u001b[0m, in \u001b[0;36mBasinHoppingRunner._monte_carlo_step\u001b[1;34m(self)\u001b[0m\n\u001b[0;32m    108\u001b[0m \u001b[38;5;66;03m# Take a random step.  Make a copy of x because the step_taking\u001b[39;00m\n\u001b[0;32m    109\u001b[0m \u001b[38;5;66;03m# algorithm might change x in place\u001b[39;00m\n\u001b[0;32m    110\u001b[0m x_after_step \u001b[38;5;241m=\u001b[39m np\u001b[38;5;241m.\u001b[39mcopy(\u001b[38;5;28mself\u001b[39m\u001b[38;5;241m.\u001b[39mx)\n\u001b[1;32m--> 111\u001b[0m x_after_step \u001b[38;5;241m=\u001b[39m \u001b[38;5;28mself\u001b[39m\u001b[38;5;241m.\u001b[39mstep_taking(x_after_step)\n\u001b[0;32m    113\u001b[0m \u001b[38;5;66;03m# do a local minimization\u001b[39;00m\n\u001b[0;32m    114\u001b[0m minres \u001b[38;5;241m=\u001b[39m \u001b[38;5;28mself\u001b[39m\u001b[38;5;241m.\u001b[39mminimizer(x_after_step)\n",
      "File \u001b[1;32m~\\anaconda3\\Lib\\site-packages\\scipy\\optimize\\_basinhopping.py:233\u001b[0m, in \u001b[0;36mAdaptiveStepsize.__call__\u001b[1;34m(self, x)\u001b[0m\n\u001b[0;32m    232\u001b[0m \u001b[38;5;28;01mdef\u001b[39;00m \u001b[38;5;21m__call__\u001b[39m(\u001b[38;5;28mself\u001b[39m, x):\n\u001b[1;32m--> 233\u001b[0m     \u001b[38;5;28;01mreturn\u001b[39;00m \u001b[38;5;28mself\u001b[39m\u001b[38;5;241m.\u001b[39mtake_step(x)\n",
      "File \u001b[1;32m~\\anaconda3\\Lib\\site-packages\\scipy\\optimize\\_basinhopping.py:255\u001b[0m, in \u001b[0;36mAdaptiveStepsize.take_step\u001b[1;34m(self, x)\u001b[0m\n\u001b[0;32m    253\u001b[0m \u001b[38;5;28;01mif\u001b[39;00m \u001b[38;5;28mself\u001b[39m\u001b[38;5;241m.\u001b[39mnstep \u001b[38;5;241m%\u001b[39m \u001b[38;5;28mself\u001b[39m\u001b[38;5;241m.\u001b[39minterval \u001b[38;5;241m==\u001b[39m \u001b[38;5;241m0\u001b[39m:\n\u001b[0;32m    254\u001b[0m     \u001b[38;5;28mself\u001b[39m\u001b[38;5;241m.\u001b[39m_adjust_step_size()\n\u001b[1;32m--> 255\u001b[0m \u001b[38;5;28;01mreturn\u001b[39;00m \u001b[38;5;28mself\u001b[39m\u001b[38;5;241m.\u001b[39mtakestep(x)\n",
      "File \u001b[1;32mC:\\Users/jamil/Documents/PhD/Github Projects/Ecological-Dynamics-and-Community-Selection/Ecological-Dynamics/Consumer-Resource Models/cavity_method_functions\\self_consistency_equation_functions.py:602\u001b[0m, in \u001b[0;36mTake_Bounded_Step.__call__\u001b[1;34m(self, x)\u001b[0m\n\u001b[0;32m    598\u001b[0m \u001b[38;5;28;01mdef\u001b[39;00m \u001b[38;5;21m__call__\u001b[39m(\u001b[38;5;28mself\u001b[39m, x):\n\u001b[0;32m    599\u001b[0m     \n\u001b[0;32m    600\u001b[0m     \u001b[38;5;66;03m#breakpoint()\u001b[39;00m\n\u001b[1;32m--> 602\u001b[0m     min_step \u001b[38;5;241m=\u001b[39m np\u001b[38;5;241m.\u001b[39mmaximum(\u001b[38;5;28mself\u001b[39m\u001b[38;5;241m.\u001b[39mxmin \u001b[38;5;241m-\u001b[39m x, \u001b[38;5;241m-\u001b[39m\u001b[38;5;28mself\u001b[39m\u001b[38;5;241m.\u001b[39mstepsize)\n\u001b[0;32m    603\u001b[0m     max_step \u001b[38;5;241m=\u001b[39m np\u001b[38;5;241m.\u001b[39mminimum(\u001b[38;5;28mself\u001b[39m\u001b[38;5;241m.\u001b[39mxmax \u001b[38;5;241m-\u001b[39m x, \u001b[38;5;28mself\u001b[39m\u001b[38;5;241m.\u001b[39mstepsize)\n\u001b[0;32m    605\u001b[0m     random_step \u001b[38;5;241m=\u001b[39m np\u001b[38;5;241m.\u001b[39mrandom\u001b[38;5;241m.\u001b[39muniform(low\u001b[38;5;241m=\u001b[39mmin_step, high\u001b[38;5;241m=\u001b[39mmax_step, size\u001b[38;5;241m=\u001b[39mx\u001b[38;5;241m.\u001b[39mshape)\n",
      "\u001b[1;31mUFuncTypeError\u001b[0m: ufunc 'subtract' did not contain a loop with signature matching types (dtype('<U32'), dtype('float64')) -> None"
     ]
    }
   ],
   "source": [
    "# parameter set\n",
    "parameters = dict(M = 150, gamma = 1,\n",
    "                  mu_c = 145, sigma_c = 1.6,\n",
    "                  mu_y = 1, sigma_y = 0.130639,\n",
    "                  mu_b = 1, sigma_b = 0,\n",
    "                  mu_d = 1, sigma_d = 0)\n",
    "\n",
    "# quantities being solved for - the self consistency equations\n",
    "solved_quantities = ['phi_N', 'N_mean', 'q_N', 'v_N',\n",
    "                     'phi_R', 'R_mean', 'q_R', 'chi_R']\n",
    "\n",
    "# bounds on the values of the self-consistency equations\n",
    "bounds = ([1e-10, 1e-10, 1e-10, -1e15, 1e-10, 1e-10,  1e-10, 1e-10],\n",
    "          [1, 1e15, 1e15, 1e-10, 1, 1e15, 1e15, 1e15])\n",
    "\n",
    "# initial guesses for the self consistency equations (not that important as we are calling a global solver)\n",
    "initial_values = np.array([0.5, 0.01, 0.01, -0.1, 0.7, 0.001, 0.01, 0.05])\n",
    "\n",
    "# Solve the self consistency equations\n",
    "# unfortunately, the solver takes a very long time in jupyter notebook \n",
    "sol = sce.solve_self_consistency_equations(model = 'self-limiting, yc c', # determines what analytically-dervied self consistency equations should be used\n",
    "                                           parameters = parameters,\n",
    "                                           solved_quantities = solved_quantities,\n",
    "                                           bounds = bounds,\n",
    "                                           x_init = initial_values,\n",
    "                                           solver_name = 'basin-hopping', # global solving routine\n",
    "                                           solver_kwargs = {'xtol' : 1e-13, 'ftol' : 1e-13}, # arguments for the local solver (non-linear least squares)\n",
    "                                           other_kwargs = {'niter' : 300}) # arguments for the global solver (basinhopping)\n"
   ]
  },
  {
   "cell_type": "markdown",
   "id": "695aeceb-1e2a-477a-89ce-3471aed1d60b",
   "metadata": {},
   "source": [
    "*sol* is a dataframe containing the parameters, the solved self-consistency equations + the final value of the loss function, and instability equations from eq. (62) and (63) in the SI."
   ]
  },
  {
   "cell_type": "code",
   "execution_count": 14,
   "id": "27452c18-46b9-4b7c-b2ae-edc125db666e",
   "metadata": {},
   "outputs": [
    {
     "name": "stdout",
     "output_type": "stream",
     "text": [
      "     M  gamma  mu_c  sigma_c  mu_y   sigma_y  mu_b  sigma_b  mu_d  sigma_d  \\\n",
      "0  150      1   145      1.6     1  0.130639     1        0     1        0   \n",
      "\n",
      "   ...       q_N       v_N     phi_R    R_mean      q_R     chi_R       loss  \\\n",
      "0  ...  0.000226 -0.439658  0.639686  0.006829  0.00011  0.300955 -54.722754   \n",
      "\n",
      "         dNde       dRde  ms_loss  \n",
      "0 -192.269516 -36.712112 -27.0927  \n",
      "\n",
      "[1 rows x 22 columns]\n"
     ]
    }
   ],
   "source": [
    "print(sol)"
   ]
  },
  {
   "cell_type": "markdown",
   "id": "bc622285-5d4e-434c-9311-26d02eda544b",
   "metadata": {},
   "source": [
    "For more details on the *solve_self_consistency_equations* functions, please see:"
   ]
  },
  {
   "cell_type": "code",
   "execution_count": 36,
   "id": "27648656-0065-4b6a-b07c-f8f212669228",
   "metadata": {},
   "outputs": [
    {
     "name": "stdout",
     "output_type": "stream",
     "text": [
      "\n",
      "    \n",
      "    Calls solve_sces for solving the system of self-consistency equations \n",
      "    (phi_N, N_mean, q_N, v_N, phi_R, R_mean, q_R, and chi_R) and the solve for\n",
      "    the stability quations (dNde and dRde)\n",
      "\n",
      "    Parameters\n",
      "    ----------\n",
      "    model : str\n",
      "        Name of the system of self-consistency equations you want to solve, aka\n",
      "        the model you're solving.\n",
      "        The options are 'self-limiting, rho' (Blumenthal et al., 2024),\n",
      "        'self-limiting, yc c' (our model), 'self-limiting, g cg' (consumption\n",
      "         is coupled to growth), 'externally supplied' (chemostat-style system\n",
      "         with non-reciprocol growth and consumption rates)\n",
      "    parameters : list of dicts or dict\n",
      "        Values that are not being solved for. Usually the statistical properties \n",
      "        of the distributions of model parameters (e.g. mean consumption rate)\n",
      "    solved_quantities : list of str\n",
      "        The names of the quantities being solved for. Usually the self-consistency\n",
      "        equations.\n",
      "    bounds : list containing 2 tuples, or list of lists of tuples \n",
      "        The lower and upper bounds of the quantities being solved for.\n",
      "    x_init : list of np.ndarray, or list of lists\n",
      "        The initial values of the solved_quantities.\n",
      "    solver_name : str\n",
      "        The routine for solving the self consistency equations.\n",
      "        Options: 'basin-hopping' (global optimisation for least-squares),\n",
      "        'least-squares' (local optimisation). \n",
      "    solver_kwargs : dict or list of dicts, optional\n",
      "        Options for the least-squares solver, which is called by both the \n",
      "        'basin-hopping' and 'least squares' routine.\n",
      "        The default is {'xtol' : 1e-13, 'ftol' : 1e-13}  .                                                  \n",
      "    other_kwargs : dict or list of dicts, optional\n",
      "        Options for the basin-hopping solver. The default is {}.\n",
      "    include_multistability : Bool, optional\n",
      "        Whether or not the stability condition should be solved as well.\n",
      "        Set as True if you are solving for the phase boundary, or False otherwise.\n",
      "        The default is False.\n",
      "\n",
      "    Returns\n",
      "    -------\n",
      "    sol : pd.DataFrame\n",
      "        Dataframe of each parameter set + values of the solved self consistency\n",
      "        equations + multistability equations.\n",
      "\n",
      "    \n"
     ]
    }
   ],
   "source": [
    "print(sce.solve_self_consistency_equations.__doc__)"
   ]
  },
  {
   "cell_type": "markdown",
   "id": "23304703-d881-4973-8216-d239c0446dba",
   "metadata": {},
   "source": [
    "## Solving for the stability boundary"
   ]
  },
  {
   "cell_type": "markdown",
   "id": "eb7bfeb3-6bd8-4290-b5f4-71bfc8747d67",
   "metadata": {},
   "source": [
    "To identify the stability boundary while varying a specific parameter, we employed only the local solver for computational efficiency.\n",
    "We fix all statistical properties of the model parameters except the one being varied, and supplied them to the solver. \n",
    "The solver is instructed to solve both the self-consistency equations and the critical value of the varying parameter at which the stability threshold is satisfied ($\\rho_{c, g} = S^*/M^*$).\n",
    "To get the solver to satisfy the stability condition, we set its argument *include_multistability* condition to *True* to include the stability criterion in the loss function.\n",
    "ince the local solver is sensitive to initial conditions, the initial values we supply it are the solution from our parameter set that yielded the highest instability measures (*dNde* and *dRde*).\n",
    "\n",
    "Note that the code below is just an example for how the solve the stability boundary.\n",
    "Do not expect it to solve for the boundary well, as the actual protocol we used required a lot of refining (of the initial values being supplied)."
   ]
  },
  {
   "cell_type": "code",
   "execution_count": 34,
   "id": "de2ec66c-5ccb-4740-8d33-ad9bda8b555d",
   "metadata": {},
   "outputs": [
    {
     "name": "stderr",
     "output_type": "stream",
     "text": [
      "100%|██████████| 1/1 [06:36<00:00, 396.26s/it]\n"
     ]
    }
   ],
   "source": [
    "parameters_boundary = deepcopy(parameters)\n",
    "parameters_boundary.pop(\"mu_c\")\n",
    "\n",
    "solved_quantities_boundary = solved_quantities + [\"mu_c\"]\n",
    "\n",
    "bounds_boundary = ([1e-10, 1e-10, 1e-10, -1e15, 1e-10, 1e-10,  1e-10, 1e-10, 0.85 * parameters[\"mu_c\"]],\n",
    "                  [1, 1e15, 1e15, 1e-10, 1, 1e15, 1e15, 1e15, 1.15 * parameters[\"mu_c\"]])\n",
    "\n",
    "initial_values_boundary = np.append(sol.loc[:, solved_quantities].to_numpy(), parameters[\"mu_c\"])\n",
    "\n",
    "sol_stability = sce.solve_self_consistency_equations(model = 'self-limiting, yc c',\n",
    "                                                     parameters = parameters_boundary,\n",
    "                                                     solved_quantities = solved_quantities_boundary,\n",
    "                                                     bounds = bounds_boundary,\n",
    "                                                     x_init = initial_values_boundary,\n",
    "                                                     solver_name = 'least-squares', # local solving routine\n",
    "                                                     solver_kwargs = {'xtol' : 1e-13, 'ftol' : 1e-13},\n",
    "                                                     include_multistability = True) # include stability condition in the loss function\n"
   ]
  },
  {
   "cell_type": "code",
   "execution_count": 35,
   "id": "f8facb71-a5fb-405d-8642-3474965b37d3",
   "metadata": {},
   "outputs": [
    {
     "name": "stdout",
     "output_type": "stream",
     "text": [
      "     M  gamma  sigma_c  mu_y   sigma_y  mu_b  sigma_b  mu_d  sigma_d  \\\n",
      "0  150      1      1.6     1  0.130639     1        0     1        0   \n",
      "\n",
      "      phi_N  ...      v_N     phi_R   R_mean       q_R     chi_R        mu_c  \\\n",
      "0  0.007779  ... -0.35009  0.016373  0.00403  0.003548  0.012103  157.558154   \n",
      "\n",
      "        loss       dNde      dRde    ms_loss  \n",
      "0 -47.335327  191.05247  1.063717 -27.092673  \n",
      "\n",
      "[1 rows x 22 columns]\n"
     ]
    }
   ],
   "source": [
    "print(sol_stability)"
   ]
  }
 ],
 "metadata": {
  "kernelspec": {
   "display_name": "Python 3 (ipykernel)",
   "language": "python",
   "name": "python3"
  },
  "language_info": {
   "codemirror_mode": {
    "name": "ipython",
    "version": 3
   },
   "file_extension": ".py",
   "mimetype": "text/x-python",
   "name": "python",
   "nbconvert_exporter": "python",
   "pygments_lexer": "ipython3",
   "version": "3.12.7"
  }
 },
 "nbformat": 4,
 "nbformat_minor": 5
}
