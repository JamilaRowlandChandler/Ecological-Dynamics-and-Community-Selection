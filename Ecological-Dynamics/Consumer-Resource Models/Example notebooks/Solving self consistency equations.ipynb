{
 "cells": [
  {
   "cell_type": "markdown",
   "id": "43b4b319-040d-47ed-8ee5-f4ba773ffa5a",
   "metadata": {},
   "source": [
    "# Solving the self-consistency equations"
   ]
  },
  {
   "cell_type": "markdown",
   "id": "473bff0d-a298-4657-9c62-444ec137f696",
   "metadata": {},
   "source": [
    "This notebook describes how the analaytical expressions for the self-consistency equations and stability condition are numerically solved."
   ]
  },
  {
   "cell_type": "code",
   "execution_count": 42,
   "id": "98640b03-66c0-49af-abce-8f610ea29691",
   "metadata": {},
   "outputs": [],
   "source": [
    "import numpy as np\n",
    "import pandas as pd\n",
    "import os\n",
    "import sys\n",
    "from copy import deepcopy\n",
    "\n",
    "os.chdir('C:/Users/jamil/Documents/PhD/GitHub projects/Ecological-Dynamics-and-Community-Selection/Ecological-Dynamics/Consumer-Resource Models/alternative_growth_consumption_coupling/cavity_solutions_vs_simulations')\n",
    "\n",
    "sys.path.insert(0, 'C:/Users/jamil/Documents/PhD/Github Projects/Ecological-Dynamics-and-Community-Selection/Ecological-Dynamics/Consumer-Resource Models/cavity_method_functions')\n",
    "import self_consistency_equation_functions as sce\n",
    "\n",
    "sys.path.insert(0, \"C:/Users/jamil/Documents/PhD/GitHub projects/Ecological-Dynamics-and-Community-Selection/\" + \\\n",
    "                    \"Ecological-Dynamics/Consumer-Resource Models/alternative_growth_consumption_coupling\")\n",
    "from simulation_functions import generate_simulation_df, le_pivot_r, pickle_dump"
   ]
  },
  {
   "cell_type": "code",
   "execution_count": 38,
   "id": "a7c692a9-c5b3-4964-af46-875fa5ef60cb",
   "metadata": {},
   "outputs": [
    {
     "name": "stdout",
     "output_type": "stream",
     "text": [
      "The autoreload extension is already loaded. To reload it, use:\n",
      "  %reload_ext autoreload\n"
     ]
    }
   ],
   "source": [
    "%load_ext autoreload\n",
    "%autoreload 2"
   ]
  },
  {
   "cell_type": "markdown",
   "id": "199d8e94-5f0b-45b8-b1fc-ebe6e0080e70",
   "metadata": {},
   "source": [
    "All solvers and self-consistency equations are included in the *self_consistency_equation_functions* module."
   ]
  },
  {
   "cell_type": "markdown",
   "id": "664ea7f9-5bd3-4ea4-90a7-2b20ff51d072",
   "metadata": {},
   "source": [
    "## Solving the self-consistency equations for a set of model parameters"
   ]
  },
  {
   "cell_type": "markdown",
   "id": "5927369b-3e4e-4c89-84fc-ed7ffa2ee2a3",
   "metadata": {},
   "source": [
    "To solve the self-consistency equations, we use a global solver that is not sensitive to initial conditions.\n",
    "We supply the statistical properties of model parameters as fixed values, and ask the solver to solve for the self-consistency equations."
   ]
  },
  {
   "cell_type": "code",
   "execution_count": 43,
   "id": "4e436f43-7c93-410c-a46f-7f4f3db2e2f6",
   "metadata": {},
   "outputs": [
    {
     "name": "stderr",
     "output_type": "stream",
     "text": [
      "100%|██████████| 1/1 [00:02<00:00,  2.62s/it]\n"
     ]
    }
   ],
   "source": [
    "# parameter set\n",
    "parameters = dict(M = 150, gamma = 1,\n",
    "                  mu_c = 145, sigma_c = 1.6,\n",
    "                  mu_y = 1, sigma_y = 0.130639,\n",
    "                  mu_b = 1, sigma_b = 0,\n",
    "                  mu_d = 1, sigma_d = 0)\n",
    "\n",
    "# quantities being solved for - the self consistency equations\n",
    "solved_quantities = ['phi_N', 'N_mean', 'q_N', 'v_N',\n",
    "                     'phi_R', 'R_mean', 'q_R', 'chi_R']\n",
    "\n",
    "# bounds on the values of the self-consistency equations\n",
    "bounds = ([1e-10, 1e-10, 1e-10, -1e15, 1e-10, 1e-10,  1e-10, 1e-10],\n",
    "          [1, 1e15, 1e15, 1e-10, 1, 1e15, 1e15, 1e15])\n",
    "\n",
    "# initial guesses for the self consistency equations (not that important as we are calling a global solver)\n",
    "initial_values = np.array([0.5, 0.01, 0.01, -0.1, 0.7, 0.001, 0.01, 0.05])\n",
    "\n",
    "# Solve the self consistency equations\n",
    "# unfortunately, the solver takes a very long time in jupyter notebook \n",
    "sol = sce.solve_self_consistency_equations(model = 'self-limiting, yc c', # determines what analytically-dervied self consistency equations should be used\n",
    "                                           parameters = parameters,\n",
    "                                           solved_quantities = solved_quantities,\n",
    "                                           bounds = bounds,\n",
    "                                           x_init = initial_values,\n",
    "                                           solver_name = 'basin-hopping', # global solving routine\n",
    "                                           solver_kwargs = {'xtol' : 1e-13, 'ftol' : 1e-13}, # arguments for the local solver (non-linear least squares)\n",
    "                                           other_kwargs = {'niter' : 300}) # arguments for the global solver (basinhopping)\n"
   ]
  },
  {
   "cell_type": "markdown",
   "id": "695aeceb-1e2a-477a-89ce-3471aed1d60b",
   "metadata": {},
   "source": [
    "*sol* is a dataframe containing the parameters, the solved self-consistency equations + the final value of the loss function, and instability equations from eq. (62) and (63) in the SI."
   ]
  },
  {
   "cell_type": "code",
   "execution_count": 14,
   "id": "27452c18-46b9-4b7c-b2ae-edc125db666e",
   "metadata": {},
   "outputs": [
    {
     "name": "stdout",
     "output_type": "stream",
     "text": [
      "     M  gamma  mu_c  sigma_c  mu_y   sigma_y  mu_b  sigma_b  mu_d  sigma_d  \\\n",
      "0  150      1   145      1.6     1  0.130639     1        0     1        0   \n",
      "\n",
      "   ...       q_N       v_N     phi_R    R_mean      q_R     chi_R       loss  \\\n",
      "0  ...  0.000226 -0.439658  0.639686  0.006829  0.00011  0.300955 -54.722754   \n",
      "\n",
      "         dNde       dRde  ms_loss  \n",
      "0 -192.269516 -36.712112 -27.0927  \n",
      "\n",
      "[1 rows x 22 columns]\n"
     ]
    }
   ],
   "source": [
    "print(sol)"
   ]
  },
  {
   "cell_type": "markdown",
   "id": "bc622285-5d4e-434c-9311-26d02eda544b",
   "metadata": {},
   "source": [
    "For more details on the *solve_self_consistency_equations* functions, please see:"
   ]
  },
  {
   "cell_type": "code",
   "execution_count": 36,
   "id": "27648656-0065-4b6a-b07c-f8f212669228",
   "metadata": {},
   "outputs": [
    {
     "name": "stdout",
     "output_type": "stream",
     "text": [
      "\n",
      "    \n",
      "    Calls solve_sces for solving the system of self-consistency equations \n",
      "    (phi_N, N_mean, q_N, v_N, phi_R, R_mean, q_R, and chi_R) and the solve for\n",
      "    the stability quations (dNde and dRde)\n",
      "\n",
      "    Parameters\n",
      "    ----------\n",
      "    model : str\n",
      "        Name of the system of self-consistency equations you want to solve, aka\n",
      "        the model you're solving.\n",
      "        The options are 'self-limiting, rho' (Blumenthal et al., 2024),\n",
      "        'self-limiting, yc c' (our model), 'self-limiting, g cg' (consumption\n",
      "         is coupled to growth), 'externally supplied' (chemostat-style system\n",
      "         with non-reciprocol growth and consumption rates)\n",
      "    parameters : list of dicts or dict\n",
      "        Values that are not being solved for. Usually the statistical properties \n",
      "        of the distributions of model parameters (e.g. mean consumption rate)\n",
      "    solved_quantities : list of str\n",
      "        The names of the quantities being solved for. Usually the self-consistency\n",
      "        equations.\n",
      "    bounds : list containing 2 tuples, or list of lists of tuples \n",
      "        The lower and upper bounds of the quantities being solved for.\n",
      "    x_init : list of np.ndarray, or list of lists\n",
      "        The initial values of the solved_quantities.\n",
      "    solver_name : str\n",
      "        The routine for solving the self consistency equations.\n",
      "        Options: 'basin-hopping' (global optimisation for least-squares),\n",
      "        'least-squares' (local optimisation). \n",
      "    solver_kwargs : dict or list of dicts, optional\n",
      "        Options for the least-squares solver, which is called by both the \n",
      "        'basin-hopping' and 'least squares' routine.\n",
      "        The default is {'xtol' : 1e-13, 'ftol' : 1e-13}  .                                                  \n",
      "    other_kwargs : dict or list of dicts, optional\n",
      "        Options for the basin-hopping solver. The default is {}.\n",
      "    include_multistability : Bool, optional\n",
      "        Whether or not the stability condition should be solved as well.\n",
      "        Set as True if you are solving for the phase boundary, or False otherwise.\n",
      "        The default is False.\n",
      "\n",
      "    Returns\n",
      "    -------\n",
      "    sol : pd.DataFrame\n",
      "        Dataframe of each parameter set + values of the solved self consistency\n",
      "        equations + multistability equations.\n",
      "\n",
      "    \n"
     ]
    }
   ],
   "source": [
    "print(sce.solve_self_consistency_equations.__doc__)"
   ]
  },
  {
   "cell_type": "markdown",
   "id": "23304703-d881-4973-8216-d239c0446dba",
   "metadata": {},
   "source": [
    "## Solving for the stability boundary"
   ]
  },
  {
   "cell_type": "markdown",
   "id": "eb7bfeb3-6bd8-4290-b5f4-71bfc8747d67",
   "metadata": {},
   "source": [
    "To identify the stability boundary while varying a specific parameter, we employed only the local solver for computational efficiency.\n",
    "We fix all statistical properties of the model parameters except the one being varied, and supplied them to the solver. \n",
    "The solver is instructed to solve both the self-consistency equations and the critical value of the varying parameter at which the stability threshold is satisfied ($\\rho_{c, g} = S^*/M^*$).\n",
    "To get the solver to satisfy the stability condition, we set its argument *include_multistability* condition to *True* to include the stability criterion in the loss function.\n",
    "ince the local solver is sensitive to initial conditions, the initial values we supply it are the solution from our parameter set that yielded the highest instability measures (*dNde* and *dRde*).\n",
    "\n",
    "Note that the code below is just an example for how the solve the stability boundary.\n",
    "Do not expect it to solve for the boundary well, as the actual protocol we used required a lot of refining (of the initial values being supplied)."
   ]
  },
  {
   "cell_type": "code",
   "execution_count": 34,
   "id": "de2ec66c-5ccb-4740-8d33-ad9bda8b555d",
   "metadata": {},
   "outputs": [
    {
     "name": "stderr",
     "output_type": "stream",
     "text": [
      "100%|██████████| 1/1 [06:36<00:00, 396.26s/it]\n"
     ]
    }
   ],
   "source": [
    "parameters_boundary = deepcopy(parameters)\n",
    "parameters_boundary.pop(\"mu_c\")\n",
    "\n",
    "solved_quantities_boundary = solved_quantities + [\"mu_c\"]\n",
    "\n",
    "bounds_boundary = ([1e-10, 1e-10, 1e-10, -1e15, 1e-10, 1e-10,  1e-10, 1e-10, 0.85 * parameters[\"mu_c\"]],\n",
    "                  [1, 1e15, 1e15, 1e-10, 1, 1e15, 1e15, 1e15, 1.15 * parameters[\"mu_c\"]])\n",
    "\n",
    "initial_values_boundary = np.append(sol.loc[:, solved_quantities].to_numpy(), parameters[\"mu_c\"])\n",
    "\n",
    "sol_stability = sce.solve_self_consistency_equations(model = 'self-limiting, yc c',\n",
    "                                                     parameters = parameters_boundary,\n",
    "                                                     solved_quantities = solved_quantities_boundary,\n",
    "                                                     bounds = bounds_boundary,\n",
    "                                                     x_init = initial_values_boundary,\n",
    "                                                     solver_name = 'least-squares', # local solving routine\n",
    "                                                     solver_kwargs = {'xtol' : 1e-13, 'ftol' : 1e-13},\n",
    "                                                     include_multistability = True) # include stability condition in the loss function\n"
   ]
  },
  {
   "cell_type": "code",
   "execution_count": 35,
   "id": "f8facb71-a5fb-405d-8642-3474965b37d3",
   "metadata": {},
   "outputs": [
    {
     "name": "stdout",
     "output_type": "stream",
     "text": [
      "     M  gamma  sigma_c  mu_y   sigma_y  mu_b  sigma_b  mu_d  sigma_d  \\\n",
      "0  150      1      1.6     1  0.130639     1        0     1        0   \n",
      "\n",
      "      phi_N  ...      v_N     phi_R   R_mean       q_R     chi_R        mu_c  \\\n",
      "0  0.007779  ... -0.35009  0.016373  0.00403  0.003548  0.012103  157.558154   \n",
      "\n",
      "        loss       dNde      dRde    ms_loss  \n",
      "0 -47.335327  191.05247  1.063717 -27.092673  \n",
      "\n",
      "[1 rows x 22 columns]\n"
     ]
    }
   ],
   "source": [
    "print(sol_stability)"
   ]
  }
 ],
 "metadata": {
  "kernelspec": {
   "display_name": "Python 3 (ipykernel)",
   "language": "python",
   "name": "python3"
  },
  "language_info": {
   "codemirror_mode": {
    "name": "ipython",
    "version": 3
   },
   "file_extension": ".py",
   "mimetype": "text/x-python",
   "name": "python",
   "nbconvert_exporter": "python",
   "pygments_lexer": "ipython3",
   "version": "3.12.7"
  }
 },
 "nbformat": 4,
 "nbformat_minor": 5
}
